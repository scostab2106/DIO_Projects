{
  "nbformat": 4,
  "nbformat_minor": 0,
  "metadata": {
    "colab": {
      "provenance": [],
      "authorship_tag": "ABX9TyOI9mowWOgkcR4dSzyZ47re",
      "include_colab_link": true
    },
    "kernelspec": {
      "name": "python3",
      "display_name": "Python 3"
    },
    "language_info": {
      "name": "python"
    }
  },
  "cells": [
    {
      "cell_type": "markdown",
      "metadata": {
        "id": "view-in-github",
        "colab_type": "text"
      },
      "source": [
        "<a href=\"https://colab.research.google.com/github/scostab2106/DIO_Projects/blob/main/Redu%C3%A7%C3%A3o_de_dimensionalidade.ipynb\" target=\"_parent\"><img src=\"https://colab.research.google.com/assets/colab-badge.svg\" alt=\"Open In Colab\"/></a>"
      ]
    },
    {
      "cell_type": "code",
      "execution_count": null,
      "metadata": {
        "id": "LhgDi9DaTLnF"
      },
      "outputs": [],
      "source": [
        "import cv2\n",
        "import numpy as np\n",
        "import matplotlib.pyplot as plt\n",
        "\n",
        "\n",
        "image = cv2.imread('wallpaper.jpg')"
      ]
    },
    {
      "cell_type": "code",
      "source": [
        "gray_image = cv2.cvtColor(image, cv2.COLOR_BGR2GRAY)"
      ],
      "metadata": {
        "id": "svUBfbfPqbJV"
      },
      "execution_count": null,
      "outputs": []
    },
    {
      "cell_type": "code",
      "source": [
        "_,binary_image = cv2.threshold(gray_image, 127, 255, cv2.THRESH_BINARY)"
      ],
      "metadata": {
        "id": "t607SevzqbMU"
      },
      "execution_count": null,
      "outputs": []
    },
    {
      "cell_type": "code",
      "source": [
        "plt.figure(figsize=(10,5))"
      ],
      "metadata": {
        "id": "wH6dUb9cqbOw"
      },
      "execution_count": null,
      "outputs": []
    },
    {
      "cell_type": "code",
      "source": [
        "plt.subplot(1, 3, 1)\n",
        "plt.imshow(cv2.cvtColor(image, cv2.COLOR_BGR2RGB))\n",
        "plt.title('Colored')\n",
        "plt.axis('off')\n",
        "\n",
        "plt.subplot(1, 3, 2)\n",
        "plt.imshow(gray_image, cmap='gray')\n",
        "plt.title('Shades of Grey')\n",
        "plt.axis('off')\n",
        "\n",
        "plt.subplot(1, 3, 3)\n",
        "plt.imshow(binary_image, cmap='gray')\n",
        "plt.title('Binarized')\n",
        "plt.axis('off')"
      ],
      "metadata": {
        "id": "ZVZtNqkAqbUD"
      },
      "execution_count": null,
      "outputs": []
    }
  ]
}